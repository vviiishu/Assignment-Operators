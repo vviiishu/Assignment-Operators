{
 "cells": [
  {
   "cell_type": "code",
   "execution_count": 1,
   "id": "401a65a1-da38-4a5f-bf5f-a0757c8c8633",
   "metadata": {},
   "outputs": [],
   "source": [
    "a=24\n",
    "b=4"
   ]
  },
  {
   "cell_type": "code",
   "execution_count": 2,
   "id": "2491ed54-99f6-4247-80a8-7d2b60310160",
   "metadata": {},
   "outputs": [
    {
     "data": {
      "text/plain": [
       "28"
      ]
     },
     "execution_count": 2,
     "metadata": {},
     "output_type": "execute_result"
    }
   ],
   "source": [
    "a+b"
   ]
  },
  {
   "cell_type": "code",
   "execution_count": 3,
   "id": "784cc3bf-b0fe-4ebb-9116-dead375975f9",
   "metadata": {},
   "outputs": [
    {
     "data": {
      "text/plain": [
       "96"
      ]
     },
     "execution_count": 3,
     "metadata": {},
     "output_type": "execute_result"
    }
   ],
   "source": [
    "a*b"
   ]
  },
  {
   "cell_type": "code",
   "execution_count": 4,
   "id": "eddccc00-f9d2-4f05-b66d-768c59d247ff",
   "metadata": {},
   "outputs": [
    {
     "data": {
      "text/plain": [
       "6.0"
      ]
     },
     "execution_count": 4,
     "metadata": {},
     "output_type": "execute_result"
    }
   ],
   "source": [
    "a/b"
   ]
  },
  {
   "cell_type": "code",
   "execution_count": 5,
   "id": "21e17fbb-62ee-4fa5-ad46-bd8ef36abf5c",
   "metadata": {},
   "outputs": [
    {
     "data": {
      "text/plain": [
       "0"
      ]
     },
     "execution_count": 5,
     "metadata": {},
     "output_type": "execute_result"
    }
   ],
   "source": [
    "a%b"
   ]
  },
  {
   "cell_type": "code",
   "execution_count": 6,
   "id": "897900f7-9f10-494e-b504-58792bb23dc6",
   "metadata": {},
   "outputs": [],
   "source": [
    "x=20"
   ]
  },
  {
   "cell_type": "code",
   "execution_count": 8,
   "id": "9d1a1e3f-9f78-43bf-8ca0-ae5990bb4511",
   "metadata": {},
   "outputs": [
    {
     "data": {
      "text/plain": [
       "30"
      ]
     },
     "execution_count": 8,
     "metadata": {},
     "output_type": "execute_result"
    }
   ],
   "source": [
    "x=x+5\n",
    "x"
   ]
  },
  {
   "cell_type": "code",
   "execution_count": 9,
   "id": "f3e1d87d-b9d8-4a12-85e8-718f40472803",
   "metadata": {},
   "outputs": [
    {
     "data": {
      "text/plain": [
       "150"
      ]
     },
     "execution_count": 9,
     "metadata": {},
     "output_type": "execute_result"
    }
   ],
   "source": [
    "x=x*5\n",
    "x"
   ]
  },
  {
   "cell_type": "code",
   "execution_count": 10,
   "id": "c38cc700-ef05-4a69-a5d2-7aec52f4079c",
   "metadata": {},
   "outputs": [
    {
     "data": {
      "text/plain": [
       "0"
      ]
     },
     "execution_count": 10,
     "metadata": {},
     "output_type": "execute_result"
    }
   ],
   "source": [
    "x=x%5\n",
    "x"
   ]
  },
  {
   "cell_type": "code",
   "execution_count": 11,
   "id": "9f4ad240-66a2-4ffb-bac3-29ec874695bb",
   "metadata": {},
   "outputs": [],
   "source": [
    "a=25\n",
    "b=45"
   ]
  },
  {
   "cell_type": "code",
   "execution_count": 12,
   "id": "4e3e29d7-44e0-4834-af28-7f8602dedccd",
   "metadata": {},
   "outputs": [
    {
     "data": {
      "text/plain": [
       "False"
      ]
     },
     "execution_count": 12,
     "metadata": {},
     "output_type": "execute_result"
    }
   ],
   "source": [
    "a>b"
   ]
  },
  {
   "cell_type": "code",
   "execution_count": 13,
   "id": "6a091c8c-09aa-4292-bd68-2e9bd6a259fa",
   "metadata": {},
   "outputs": [
    {
     "data": {
      "text/plain": [
       "True"
      ]
     },
     "execution_count": 13,
     "metadata": {},
     "output_type": "execute_result"
    }
   ],
   "source": [
    "b>a"
   ]
  },
  {
   "cell_type": "code",
   "execution_count": 17,
   "id": "a5f397ec-d3fb-4b14-8e34-4d68765d9f7a",
   "metadata": {},
   "outputs": [],
   "source": [
    "p=40\n",
    "q=35\n",
    "r=2"
   ]
  },
  {
   "cell_type": "code",
   "execution_count": 19,
   "id": "68ddf8ad-f7c0-4728-96ff-a652dc28982e",
   "metadata": {},
   "outputs": [
    {
     "name": "stdout",
     "output_type": "stream",
     "text": [
      "good\n"
     ]
    }
   ],
   "source": [
    "if p>q and q>r:\n",
    "    print(\"good\")"
   ]
  },
  {
   "cell_type": "code",
   "execution_count": 20,
   "id": "e37e6da1-0ded-4b27-bc5b-bad83d094c37",
   "metadata": {},
   "outputs": [
    {
     "name": "stdout",
     "output_type": "stream",
     "text": [
      "bad\n"
     ]
    }
   ],
   "source": [
    "if p>q or q>r:\n",
    "    print(\"bad\")"
   ]
  },
  {
   "cell_type": "code",
   "execution_count": 21,
   "id": "00015a16-aee0-4370-b756-0442539cafa1",
   "metadata": {},
   "outputs": [],
   "source": [
    "e=25\n",
    "f=30\n"
   ]
  },
  {
   "cell_type": "code",
   "execution_count": 22,
   "id": "f091e5e4-49ee-4a97-99a4-ba8159cf80b7",
   "metadata": {},
   "outputs": [
    {
     "data": {
      "text/plain": [
       "26843545600"
      ]
     },
     "execution_count": 22,
     "metadata": {},
     "output_type": "execute_result"
    }
   ],
   "source": [
    "e<<f"
   ]
  },
  {
   "cell_type": "code",
   "execution_count": 23,
   "id": "838f6e65-1975-420f-b4f6-5f45b973ae10",
   "metadata": {},
   "outputs": [
    {
     "data": {
      "text/plain": [
       "24"
      ]
     },
     "execution_count": 23,
     "metadata": {},
     "output_type": "execute_result"
    }
   ],
   "source": [
    "e&f"
   ]
  },
  {
   "cell_type": "code",
   "execution_count": 24,
   "id": "f57d96c8-f2d2-44a7-a80f-847411bac49f",
   "metadata": {},
   "outputs": [
    {
     "data": {
      "text/plain": [
       "31"
      ]
     },
     "execution_count": 24,
     "metadata": {},
     "output_type": "execute_result"
    }
   ],
   "source": [
    "e|f"
   ]
  },
  {
   "cell_type": "code",
   "execution_count": 32,
   "id": "779d3541-8b65-471b-bec1-1465852351ff",
   "metadata": {},
   "outputs": [],
   "source": [
    "f=~f"
   ]
  },
  {
   "cell_type": "code",
   "execution_count": 33,
   "id": "10298ba6-85a7-4c5c-881c-9094a50803b2",
   "metadata": {},
   "outputs": [
    {
     "data": {
      "text/plain": [
       "-31"
      ]
     },
     "execution_count": 33,
     "metadata": {},
     "output_type": "execute_result"
    }
   ],
   "source": [
    "f"
   ]
  },
  {
   "cell_type": "code",
   "execution_count": 36,
   "id": "1a38ce40-0841-4907-9978-7dd0aeab82ce",
   "metadata": {},
   "outputs": [
    {
     "name": "stdout",
     "output_type": "stream",
     "text": [
      "Original number: 10\n",
      "Changed number: -10\n"
     ]
    }
   ],
   "source": [
    "number = 10\n",
    "changed_number = ~number+1\n",
    "print(\"Original number:\", number)\n",
    "print(\"Changed number:\", changed_number)\n"
   ]
  },
  {
   "cell_type": "code",
   "execution_count": 38,
   "id": "c094925d-4846-4b54-b403-739617e245a3",
   "metadata": {},
   "outputs": [
    {
     "data": {
      "text/plain": [
       "-25"
      ]
     },
     "execution_count": 38,
     "metadata": {},
     "output_type": "execute_result"
    }
   ],
   "source": [
    "s=25\n",
    "~s+1"
   ]
  },
  {
   "cell_type": "code",
   "execution_count": 70,
   "id": "4573aa79-5f9e-4196-aa0a-4fa3aa133273",
   "metadata": {},
   "outputs": [
    {
     "name": "stdout",
     "output_type": "stream",
     "text": [
      "200\n"
     ]
    }
   ],
   "source": [
    "t=25\n",
    "u=40\n",
    "v=78\n",
    "if t>u:\n",
    "    t=u+5\n",
    "else : t=u*5\n",
    "print(t)"
   ]
  }
 ],
 "metadata": {
  "kernelspec": {
   "display_name": "Python 3 (ipykernel)",
   "language": "python",
   "name": "python3"
  },
  "language_info": {
   "codemirror_mode": {
    "name": "ipython",
    "version": 3
   },
   "file_extension": ".py",
   "mimetype": "text/x-python",
   "name": "python",
   "nbconvert_exporter": "python",
   "pygments_lexer": "ipython3",
   "version": "3.10.8"
  }
 },
 "nbformat": 4,
 "nbformat_minor": 5
}
