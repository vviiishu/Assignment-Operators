{
 "cells": [
  {
   "cell_type": "code",
   "execution_count": 3,
   "id": "8e127b52-684a-45e9-8656-33b5b7c05c12",
   "metadata": {},
   "outputs": [
    {
     "name": "stdin",
     "output_type": "stream",
     "text": [
      "Enter the first number:  25\n",
      "Enter the second number:  10\n"
     ]
    },
    {
     "name": "stdout",
     "output_type": "stream",
     "text": [
      "Sum: 35.0\n",
      "Difference: 15.0\n",
      "Product: 250.0\n",
      "Quotient: 2.5\n"
     ]
    }
   ],
   "source": [
    "\n",
    "num1 = float(input(\"Enter the first number: \"))\n",
    "num2 = float(input(\"Enter the second number: \"))\n",
    "\n",
    "sum_ = num1 + num2\n",
    "\n",
    "difference = num1 - num2\n",
    "\n",
    "product = num1 * num2\n",
    "\n",
    "if num2 != 0:\n",
    "    quotient = num1 / num2\n",
    "else:\n",
    "    quotient = \"Undefined (division by zero)\"\n",
    "\n",
    "print(\"Sum: \" + str(sum_))\n",
    "print(\"Difference: \" + str(difference))\n",
    "print(\"Product: \" + str(product))\n",
    "print(\"Quotient: \" + str(quotient))\n"
   ]
  },
  {
   "cell_type": "code",
   "execution_count": 11,
   "id": "5f2396be-53ac-44e3-842f-4943182be30e",
   "metadata": {},
   "outputs": [
    {
     "name": "stdout",
     "output_type": "stream",
     "text": [
      "Final result: 3.0\n"
     ]
    }
   ],
   "source": [
    "variable = 10\n",
    "\n",
    "variable += 15  \n",
    "variable -= 3  \n",
    "variable *= 8 \n",
    "variable /= 2  \n",
    "variable //= 25 \n",
    "variable %= 75  \n",
    "\n",
    "print(\"Final result:\", variable)\n"
   ]
  },
  {
   "cell_type": "code",
   "execution_count": 14,
   "id": "8662c966-9eed-43cb-87ee-1ad92e5fa4e5",
   "metadata": {},
   "outputs": [
    {
     "name": "stdin",
     "output_type": "stream",
     "text": [
      "Enter the first number:  15\n",
      "Enter the second number:  52\n"
     ]
    },
    {
     "name": "stdout",
     "output_type": "stream",
     "text": [
      "15.0 is less than 52.0\n"
     ]
    }
   ],
   "source": [
    "\n",
    "num1 = float(input(\"Enter the first number: \"))\n",
    "num2 = float(input(\"Enter the second number: \"))\n",
    "\n",
    "if num1 > num2:\n",
    "    print(f\"{num1} is greater than ${num2}\")\n",
    "elif num1 < num2:\n",
    "    print(f\"{num1} is less than {num2}\")\n",
    "else:\n",
    "    print(f\"{num1} is equal to ${num2}\")\n"
   ]
  },
  {
   "cell_type": "code",
   "execution_count": 15,
   "id": "73341c69-b7d5-4fbe-b8e7-8e165be4ec0b",
   "metadata": {},
   "outputs": [
    {
     "name": "stdin",
     "output_type": "stream",
     "text": [
      "Enter the first number:  25\n",
      "Enter the second number:  12\n"
     ]
    },
    {
     "name": "stdout",
     "output_type": "stream",
     "text": [
      "Both numbers are positive.\n"
     ]
    }
   ],
   "source": [
    "\n",
    "num1 = float(input(\"Enter the first number: \"))\n",
    "num2 = float(input(\"Enter the second number: \"))\n",
    "\n",
    "if num1 > 0 and num2 > 0:\n",
    "    print(\"Both numbers are positive.\")\n",
    "elif num1 < 0 and num2 < 0:\n",
    "    print(\"Both numbers are negative.\")\n",
    "elif num1 == 0 and num2 == 0:\n",
    "    print(\"Both numbers are zero.\")\n",
    "elif num1 > 0 or num2 > 0:\n",
    "    print(\"At least one number is positive.\")\n",
    "elif num1 < 0 or num2 < 0:\n",
    "    print(\"At least one number is negative.\")\n",
    "else:\n",
    "    print(\"The numbers are both zero or one is zero and the other is not.\")\n"
   ]
  },
  {
   "cell_type": "code",
   "execution_count": 18,
   "id": "8f287d1a-9b04-49c1-941f-4499af123289",
   "metadata": {},
   "outputs": [
    {
     "name": "stdout",
     "output_type": "stream",
     "text": [
      "var1 is var2: False\n",
      "var1 is var3: True\n"
     ]
    }
   ],
   "source": [
    "\n",
    "var1 = [1, 2, 3]\n",
    "var2 = [1, 2, 3]\n",
    "var3 = var1\n",
    "\n",
    "print(\"var1 is var2:\", var1 is var2) \n",
    "print(\"var1 is var3:\", var1 is var3)  \n"
   ]
  },
  {
   "cell_type": "code",
   "execution_count": 19,
   "id": "06061b07-7d8b-41c1-a5c9-307a4a72dc4d",
   "metadata": {},
   "outputs": [
    {
     "name": "stdin",
     "output_type": "stream",
     "text": [
      "Enter the first integer:  50\n",
      "Enter the second integer:  45\n"
     ]
    },
    {
     "name": "stdout",
     "output_type": "stream",
     "text": [
      "Bitwise AND: 32\n",
      "Bitwise OR: 63\n",
      "Bitwise XOR: 31\n",
      "Bitwise NOT of num1: -51\n",
      "Left shift of num2: 90\n",
      "Right shift of num1: 25\n"
     ]
    }
   ],
   "source": [
    "\n",
    "num1 = int(input(\"Enter the first integer: \"))\n",
    "num2 = int(input(\"Enter the second integer: \"))\n",
    "\n",
    "bitwise_and = num1 & num2\n",
    "print(\"Bitwise AND:\", bitwise_and)\n",
    "\n",
    "bitwise_or = num1 | num2\n",
    "print(\"Bitwise OR:\", bitwise_or)\n",
    "\n",
    "bitwise_xor = num1 ^ num2\n",
    "print(\"Bitwise XOR:\", bitwise_xor)\n",
    "\n",
    "bitwise_not_num1 = ~num1\n",
    "print(\"Bitwise NOT of num1:\", bitwise_not_num1)\n",
    "\n",
    "left_shift_num2 = num2 << 1\n",
    "print(\"Left shift of num2:\", left_shift_num2)\n",
    "\n",
    "right_shift_num1 = num1 >> 1\n",
    "print(\"Right shift of num1:\", right_shift_num1)\n"
   ]
  },
  {
   "cell_type": "code",
   "execution_count": 20,
   "id": "fbe8ec0c-306a-44dd-b6a0-a9d8de69a34b",
   "metadata": {},
   "outputs": [
    {
     "name": "stdin",
     "output_type": "stream",
     "text": [
      "Enter a number:  42\n"
     ]
    },
    {
     "name": "stdout",
     "output_type": "stream",
     "text": [
      "Number with changed sign: -42.0\n"
     ]
    }
   ],
   "source": [
    "\n",
    "number = float(input(\"Enter a number: \"))\n",
    "changed_sign = -number\n",
    "\n",
    "print(\"Number with changed sign:\", changed_sign)\n"
   ]
  },
  {
   "cell_type": "code",
   "execution_count": 21,
   "id": "dad74b54-2f39-48b7-b95c-61588e88b1f3",
   "metadata": {},
   "outputs": [
    {
     "name": "stdin",
     "output_type": "stream",
     "text": [
      "Enter a number:  78\n"
     ]
    },
    {
     "name": "stdout",
     "output_type": "stream",
     "text": [
      "The number is Positive\n"
     ]
    }
   ],
   "source": [
    "\n",
    "number = float(input(\"Enter a number: \"))\n",
    "\n",
    "sign = \"Positive\" if number > 0 else \"Negative\" if number < 0 else \"Zero\"\n",
    "\n",
    "print(\"The number is\", sign)\n"
   ]
  }
 ],
 "metadata": {
  "kernelspec": {
   "display_name": "Python 3 (ipykernel)",
   "language": "python",
   "name": "python3"
  },
  "language_info": {
   "codemirror_mode": {
    "name": "ipython",
    "version": 3
   },
   "file_extension": ".py",
   "mimetype": "text/x-python",
   "name": "python",
   "nbconvert_exporter": "python",
   "pygments_lexer": "ipython3",
   "version": "3.10.8"
  }
 },
 "nbformat": 4,
 "nbformat_minor": 5
}
